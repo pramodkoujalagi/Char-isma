{
  "nbformat": 4,
  "nbformat_minor": 0,
  "metadata": {
    "colab": {
      "provenance": [],
      "authorship_tag": "ABX9TyPE/QgUElBz2+XhfqRpAerH",
      "include_colab_link": true
    },
    "kernelspec": {
      "name": "python3",
      "display_name": "Python 3"
    },
    "language_info": {
      "name": "python"
    }
  },
  "cells": [
    {
      "cell_type": "markdown",
      "metadata": {
        "id": "view-in-github",
        "colab_type": "text"
      },
      "source": [
        "<a href=\"https://colab.research.google.com/github/pramodkoujalagi/Char-isma/blob/main/Char_isma_Manual_Backprop.ipynb\" target=\"_parent\"><img src=\"https://colab.research.google.com/assets/colab-badge.svg\" alt=\"Open In Colab\"/></a>"
      ]
    },
    {
      "cell_type": "code",
      "execution_count": 2,
      "metadata": {
        "id": "bywZ8wZHOnK1"
      },
      "outputs": [],
      "source": [
        "import torch\n",
        "import torch.nn.functional as F\n",
        "import matplotlib.pyplot as plt\n",
        "%matplotlib inline"
      ]
    },
    {
      "cell_type": "code",
      "source": [
        "words = open('names.txt', 'r').read().splitlines()\n",
        "print(len(words))\n",
        "print(max(len(w) for w in words))\n",
        "words[:10]"
      ],
      "metadata": {
        "colab": {
          "base_uri": "https://localhost:8080/"
        },
        "id": "fycZ8AHpQRep",
        "outputId": "33b1740d-0cd3-475b-8193-b077acdfcd33"
      },
      "execution_count": 3,
      "outputs": [
        {
          "output_type": "stream",
          "name": "stdout",
          "text": [
            "32033\n",
            "15\n"
          ]
        },
        {
          "output_type": "execute_result",
          "data": {
            "text/plain": [
              "['emma',\n",
              " 'olivia',\n",
              " 'ava',\n",
              " 'isabella',\n",
              " 'sophia',\n",
              " 'charlotte',\n",
              " 'mia',\n",
              " 'amelia',\n",
              " 'harper',\n",
              " 'evelyn']"
            ]
          },
          "metadata": {},
          "execution_count": 3
        }
      ]
    },
    {
      "cell_type": "code",
      "source": [
        "# Building the vocabulary of characters & mappings to the integers and vice-versa\n",
        "characters = sorted(list(set(''.join(words))))\n",
        "stoi = {s:i+1 for i,s in enumerate(characters)}\n",
        "stoi['.'] = 0\n",
        "itos = {i:s for s,i in stoi.items()}\n",
        "vocab_size = len(itos)\n",
        "print(itos)\n",
        "print(vocab_size)"
      ],
      "metadata": {
        "colab": {
          "base_uri": "https://localhost:8080/"
        },
        "id": "jwXxdWmnRDMX",
        "outputId": "3eaccc46-17b3-4965-f78c-a354935f9dc2"
      },
      "execution_count": 4,
      "outputs": [
        {
          "output_type": "stream",
          "name": "stdout",
          "text": [
            "{1: 'a', 2: 'b', 3: 'c', 4: 'd', 5: 'e', 6: 'f', 7: 'g', 8: 'h', 9: 'i', 10: 'j', 11: 'k', 12: 'l', 13: 'm', 14: 'n', 15: 'o', 16: 'p', 17: 'q', 18: 'r', 19: 's', 20: 't', 21: 'u', 22: 'v', 23: 'w', 24: 'x', 25: 'y', 26: 'z', 0: '.'}\n",
            "27\n"
          ]
        }
      ]
    },
    {
      "cell_type": "code",
      "source": [
        "# Block size is nothing but the context length or the number of character I am taking to predict the next character.\n",
        "block_size = 3\n",
        "\n",
        "# Building Dataset\n",
        "def dataset(words):\n",
        "  X, Y = [], []\n",
        "\n",
        "  for w in words:\n",
        "    context = [0] * block_size\n",
        "    for ch in w + '.':\n",
        "      Xi = stoi[ch]\n",
        "      X.append(context)\n",
        "      Y.append(Xi)\n",
        "      context = context[1:] + [Xi] # crop and append\n",
        "\n",
        "  X = torch.tensor(X)\n",
        "  Y = torch.tensor(Y)\n",
        "  print(X.shape, Y.shape)\n",
        "  return X, Y\n",
        "\n",
        "import random\n",
        "random.seed(42)\n",
        "random.shuffle(words)\n",
        "n1 = int(0.8*len(words))\n",
        "n2 = int(0.9*len(words))\n",
        "\n",
        "X_train,  Y_train  = dataset(words[:n1]) # 80%\n",
        "X_val, Y_val = dataset(words[n1:n2])     # 10%\n",
        "X_test,  Y_test  = dataset(words[n2:])   # 10%"
      ],
      "metadata": {
        "colab": {
          "base_uri": "https://localhost:8080/"
        },
        "id": "kk9pktRmRyl7",
        "outputId": "cabd05a4-aa03-40e8-b49b-b87065bf512c"
      },
      "execution_count": 5,
      "outputs": [
        {
          "output_type": "stream",
          "name": "stdout",
          "text": [
            "torch.Size([182625, 3]) torch.Size([182625])\n",
            "torch.Size([22655, 3]) torch.Size([22655])\n",
            "torch.Size([22866, 3]) torch.Size([22866])\n"
          ]
        }
      ]
    },
    {
      "cell_type": "code",
      "source": [
        "# utility function to be used later for comparison (To compare manual gradients to PyTorch gradients)\n",
        "def cmp(s, dt, t):\n",
        "  ex = torch.all(dt == t.grad).item()\n",
        "  app = torch.allclose(dt, t.grad)\n",
        "  maxdiff = (dt - t.grad).abs().max().item()\n",
        "  print(f'{s:15s} | exact: {str(ex):5s} | approximate: {str(app):5s} | maxdiff: {maxdiff}')"
      ],
      "metadata": {
        "id": "9KSVVjUNSRgv"
      },
      "execution_count": 6,
      "outputs": []
    },
    {
      "cell_type": "code",
      "source": [
        "n_embd = 10 # The dimensionality of the character embedding vectors\n",
        "n_hidden = 64 # The number of neurons in the hidden layer of the MLP\n",
        "\n",
        "g = torch.Generator().manual_seed(2147483647) # for reproducibility\n",
        "C  = torch.randn((vocab_size, n_embd),          generator=g)\n",
        "\n",
        "# Layer 1\n",
        "W1 = torch.randn((n_embd*block_size, n_hidden), generator=g) * (5/3)/((n_embd*block_size)**0.5) # for tanh\n",
        "b1 = torch.randn(n_hidden,                      generator=g) * 0.1 # it's useless because of Batch Normalization\n",
        "# Layer 2\n",
        "W2 = torch.randn((n_hidden, vocab_size),        generator=g) * 0.1\n",
        "b2 = torch.randn(vocab_size,                    generator=g) * 0.1\n",
        "\n",
        "# Params for BatchNorm\n",
        "bngain = torch.randn((1, n_hidden))*0.1 + 1.0\n",
        "bnbias = torch.randn((1, n_hidden))*0.1 # initializating many of these parameters in non-standard ways\n",
        "\n",
        "parameters = [C, W1, b1, W2, b2, bngain, bnbias]\n",
        "print(sum(p.nelement() for p in parameters)) # number of parameters in total\n",
        "for p in parameters:\n",
        "  p.requires_grad = True"
      ],
      "metadata": {
        "colab": {
          "base_uri": "https://localhost:8080/"
        },
        "id": "N9oUlpDCS8P6",
        "outputId": "b5d2a528-790c-4abd-c7ba-25a5fc1a132a"
      },
      "execution_count": 7,
      "outputs": [
        {
          "output_type": "stream",
          "name": "stdout",
          "text": [
            "4137\n"
          ]
        }
      ]
    },
    {
      "cell_type": "code",
      "source": [
        "batch_size = 32\n",
        "m = batch_size\n",
        "\n",
        "# minibatch\n",
        "Xi = torch.randint(0, X_train.shape[0], (batch_size,), generator=g)\n",
        "Xb, Yb = X_train[Xi], Y_train[Xi] # batch X,Y"
      ],
      "metadata": {
        "id": "mBrCumawhAfn"
      },
      "execution_count": 8,
      "outputs": []
    },
    {
      "cell_type": "markdown",
      "source": [
        "### Forward pass"
      ],
      "metadata": {
        "id": "v_3hjWI-lSF8"
      }
    },
    {
      "cell_type": "code",
      "source": [
        "# Created smaller chunks that are possible to backward one at a time\n",
        "\n",
        "emb = C[Xb] # embedding the characters into vectors\n",
        "emb_cat = emb.view(emb.shape[0], -1) # concatenate the vectors\n",
        "# Linear layer 1\n",
        "hpre_bn = emb_cat @ W1 + b1 # hidden layer pre-activation"
      ],
      "metadata": {
        "id": "F919McG4htaj"
      },
      "execution_count": 9,
      "outputs": []
    },
    {
      "cell_type": "markdown",
      "source": [
        "![image.png](data:image/png;base64,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)"
      ],
      "metadata": {
        "id": "H7X4ecYlk6FA"
      }
    },
    {
      "cell_type": "markdown",
      "source": [
        "![image.png](data:image/png;base64,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)"
      ],
      "metadata": {
        "id": "q3kKjXzQdWX7"
      }
    },
    {
      "cell_type": "markdown",
      "source": [
        "* During inference in the paper they are using unbiased varience i.e (m-1) instead of m (biased)\n",
        "\n",
        "* More about Bessel's correction: https://mathcenter.oxford.emory.edu/site/math117/besselCorrection/"
      ],
      "metadata": {
        "id": "sOGXmzN3daNm"
      }
    },
    {
      "cell_type": "code",
      "source": [
        "# BatchNorm layer as in above paper\n",
        "bnmeani = 1/m*hpre_bn.sum(0, keepdim=True)\n",
        "bndiff = hpre_bn - bnmeani\n",
        "bndiff2 = bndiff**2\n",
        "bnvar = 1/(m-1)*(bndiff2).sum(0, keepdim=True) # Bessel's correction (dividing by m-1, not m)\n",
        "bnvar_inv = (bnvar + 1e-5)**-0.5\n",
        "bnraw = bndiff * bnvar_inv\n",
        "hpreact = bngain * bnraw + bnbias\n",
        "\n",
        "# Non-linearity\n",
        "h = torch.tanh(hpreact) # hidden layer\n",
        "\n",
        "# Linear layer 2\n",
        "logits = h @ W2 + b2 # output layer\n",
        "\n",
        "# cross entropy loss (same as F.cross_entropy(logits, Yb))\n",
        "logit_maxes = logits.max(1, keepdim=True).values\n",
        "norm_logits = logits - logit_maxes # subtract max for numerical stability\n",
        "counts = norm_logits.exp()\n",
        "counts_sum = counts.sum(1, keepdims=True)\n",
        "counts_sum_inv = counts_sum**-1 # can't backprop if (1.0/counts_sum) is used\n",
        "probs = counts * counts_sum_inv\n",
        "logprobs = probs.log()\n",
        "loss = -logprobs[range(m), Yb].mean()\n",
        "\n",
        "# Backward pass (PyTorch)\n",
        "for p in parameters:\n",
        "  p.grad = None\n",
        "for t in [logprobs, probs, counts, counts_sum, counts_sum_inv, norm_logits, logit_maxes, logits, h, hpreact, bnraw,\n",
        "         bnvar_inv, bnvar, bndiff2, bndiff, hpre_bn, bnmeani, emb_cat, emb]:\n",
        "  t.retain_grad()\n",
        "loss.backward()\n",
        "loss"
      ],
      "metadata": {
        "colab": {
          "base_uri": "https://localhost:8080/"
        },
        "id": "MB3dNdYwk6pa",
        "outputId": "5e5cbeae-ec09-4984-a765-ce1140909dfc"
      },
      "execution_count": 10,
      "outputs": [
        {
          "output_type": "execute_result",
          "data": {
            "text/plain": [
              "tensor(3.3666, grad_fn=<NegBackward0>)"
            ]
          },
          "metadata": {},
          "execution_count": 10
        }
      ]
    },
    {
      "cell_type": "code",
      "source": [
        "logits.shape, logit_maxes.shape, norm_logits.shape"
      ],
      "metadata": {
        "colab": {
          "base_uri": "https://localhost:8080/"
        },
        "id": "Qw7UjgfQtRnd",
        "outputId": "521cda69-9fd8-4153-bca9-bd327f5d866b"
      },
      "execution_count": 11,
      "outputs": [
        {
          "output_type": "execute_result",
          "data": {
            "text/plain": [
              "(torch.Size([32, 27]), torch.Size([32, 1]), torch.Size([32, 27]))"
            ]
          },
          "metadata": {},
          "execution_count": 11
        }
      ]
    },
    {
      "cell_type": "code",
      "source": [
        "hpre_bn.shape, bnmeani.shape"
      ],
      "metadata": {
        "colab": {
          "base_uri": "https://localhost:8080/"
        },
        "id": "p-JS1I84nq2m",
        "outputId": "a3ec34db-6a89-4c63-dc1e-ad5bad675860"
      },
      "execution_count": 12,
      "outputs": [
        {
          "output_type": "execute_result",
          "data": {
            "text/plain": [
              "(torch.Size([32, 64]), torch.Size([1, 64]))"
            ]
          },
          "metadata": {},
          "execution_count": 12
        }
      ]
    },
    {
      "cell_type": "code",
      "source": [
        "emb_cat.shape, emb.view(emb.shape[0], -1).shape, emb.shape"
      ],
      "metadata": {
        "colab": {
          "base_uri": "https://localhost:8080/"
        },
        "id": "kdDA75tnu2Kd",
        "outputId": "0a3e4b22-4b3e-4b2f-99e1-11de72464cfd"
      },
      "execution_count": 13,
      "outputs": [
        {
          "output_type": "execute_result",
          "data": {
            "text/plain": [
              "(torch.Size([32, 30]), torch.Size([32, 30]), torch.Size([32, 3, 10]))"
            ]
          },
          "metadata": {},
          "execution_count": 13
        }
      ]
    },
    {
      "cell_type": "code",
      "source": [
        "\"\"\"\n",
        "backpropagating through the whole thing manually,\n",
        "backpropagating through exactly all of the variables\n",
        "as they are defined in the forward pass above, one by one\n",
        "\"\"\"\n",
        "\n",
        "dlogprobs = torch.zeros_like(logprobs)\n",
        "dlogprobs[range(m), Yb] = -1.0/m\n",
        "\n",
        "dprobs = (1.0/probs) * dlogprobs\n",
        "\n",
        "dcounts_sum_inv = (counts * dprobs).sum(1, keepdim=True)\n",
        "dcounts = counts_sum_inv * dprobs\n",
        "\n",
        "dcounts_sum = -counts_sum**-2 * dcounts_sum_inv\n",
        "dcounts += torch.ones_like(counts) * dcounts_sum\n",
        "\n",
        "dnorm_logits = counts * dcounts # counts = norm_logits.exp()\n",
        "\n",
        "dlogits = dnorm_logits.clone()\n",
        "dlogit_maxes = (-dnorm_logits).sum(1, keepdim=True)\n",
        "\n",
        "\n",
        "dlogits += F.one_hot(logits.max(1).indices, num_classes=logits.shape[1]) * dlogit_maxes # Even this worked for me: dlogit_maxes + dlogits\n",
        "\n",
        "dh = dlogits @ W2.T\n",
        "dW2 = h.T @ dlogits\n",
        "db2 = dlogits.sum(0)\n",
        "\n",
        "dhpreact = (1.0 - h**2) * dh\n",
        "\n",
        "dbngain = (bnraw * dhpreact).sum(0, keepdim=True)\n",
        "dbnbias = dhpreact.sum(0, keepdim=True)\n",
        "dbnraw = bngain * dhpreact\n",
        "dbndiff = bnvar_inv * dbnraw\n",
        "dbnvar_inv = (bndiff * dbnraw).sum(0, keepdim=True)\n",
        "dbnvar = (-0.5 * (bnvar + 1e-5) ** (-1.5)) * dbnvar_inv\n",
        "dbndiff2 = (1.0/(m-1))*torch.ones_like(bndiff2) * dbnvar\n",
        "dbndiff +=  (2*bndiff) * dbndiff2\n",
        "dhpre_bn = dbndiff.clone()\n",
        "dbnmeani = -dbndiff.sum(0)\n",
        "dhpre_bn += 1.0/m *torch.ones_like(hpre_bn) * dbnmeani\n",
        "\n",
        "demb_cat = dhpre_bn @ W1.T\n",
        "dW1 = emb_cat.T @ dhpre_bn\n",
        "db1 = dhpre_bn.sum(0)\n",
        "\n",
        "demb = demb_cat.view(emb.shape)\n",
        "dC = torch.zeros_like(C)\n",
        "for k in range(Xb.shape[0]):\n",
        "  for j in range(Xb.shape[1]):\n",
        "    ix = Xb[k,j]\n",
        "    dC[ix] += demb[k,j]\n",
        "\n",
        "cmp('logprobs', dlogprobs, logprobs)\n",
        "cmp('probs', dprobs, probs)\n",
        "cmp('counts_sum_inv', dcounts_sum_inv, counts_sum_inv)\n",
        "cmp('counts_sum', dcounts_sum, counts_sum)\n",
        "cmp('counts', dcounts, counts)\n",
        "cmp('norm_logits', dnorm_logits, norm_logits)\n",
        "cmp('logit_maxes', dlogit_maxes, logit_maxes)\n",
        "cmp('logits', dlogits, logits)\n",
        "cmp('h', dh, h)\n",
        "cmp('W2', dW2, W2)\n",
        "cmp('b2', db2, b2)\n",
        "cmp('hpreact', dhpreact, hpreact)\n",
        "cmp('bngain', dbngain, bngain)\n",
        "cmp('bnbias', dbnbias, bnbias)\n",
        "cmp('bnraw', dbnraw, bnraw)\n",
        "cmp('bnvar_inv', dbnvar_inv, bnvar_inv)\n",
        "cmp('bnvar', dbnvar, bnvar)\n",
        "cmp('bndiff2', dbndiff2, bndiff2)\n",
        "cmp('bndiff', dbndiff, bndiff)\n",
        "cmp('bnmeani', dbnmeani, bnmeani)\n",
        "cmp('hpre_bn', dhpre_bn, hpre_bn)\n",
        "cmp('emb_cat', demb_cat, emb_cat)\n",
        "cmp('W1', dW1, W1)\n",
        "cmp('b1', db1, b1)\n",
        "cmp('emb', demb, emb)\n",
        "cmp('C', dC, C)"
      ],
      "metadata": {
        "colab": {
          "base_uri": "https://localhost:8080/"
        },
        "id": "cxmHlNkgiY55",
        "outputId": "a5aac1c6-b838-4ead-962e-a0096f48d780"
      },
      "execution_count": 14,
      "outputs": [
        {
          "output_type": "stream",
          "name": "stdout",
          "text": [
            "logprobs        | exact: True  | approximate: True  | maxdiff: 0.0\n",
            "probs           | exact: True  | approximate: True  | maxdiff: 0.0\n",
            "counts_sum_inv  | exact: True  | approximate: True  | maxdiff: 0.0\n",
            "counts_sum      | exact: True  | approximate: True  | maxdiff: 0.0\n",
            "counts          | exact: True  | approximate: True  | maxdiff: 0.0\n",
            "norm_logits     | exact: True  | approximate: True  | maxdiff: 0.0\n",
            "logit_maxes     | exact: True  | approximate: True  | maxdiff: 0.0\n",
            "logits          | exact: True  | approximate: True  | maxdiff: 0.0\n",
            "h               | exact: True  | approximate: True  | maxdiff: 0.0\n",
            "W2              | exact: True  | approximate: True  | maxdiff: 0.0\n",
            "b2              | exact: True  | approximate: True  | maxdiff: 0.0\n",
            "hpreact         | exact: False | approximate: True  | maxdiff: 9.313225746154785e-10\n",
            "bngain          | exact: False | approximate: True  | maxdiff: 1.862645149230957e-09\n",
            "bnbias          | exact: False | approximate: True  | maxdiff: 3.725290298461914e-09\n",
            "bnraw           | exact: False | approximate: True  | maxdiff: 9.313225746154785e-10\n",
            "bnvar_inv       | exact: False | approximate: True  | maxdiff: 3.725290298461914e-09\n",
            "bnvar           | exact: False | approximate: True  | maxdiff: 4.656612873077393e-10\n",
            "bndiff2         | exact: False | approximate: True  | maxdiff: 2.9103830456733704e-11\n",
            "bndiff          | exact: False | approximate: True  | maxdiff: 9.313225746154785e-10\n",
            "bnmeani         | exact: False | approximate: True  | maxdiff: 2.3283064365386963e-09\n",
            "hpre_bn         | exact: False | approximate: True  | maxdiff: 4.656612873077393e-10\n",
            "emb_cat         | exact: False | approximate: True  | maxdiff: 1.862645149230957e-09\n",
            "W1              | exact: False | approximate: True  | maxdiff: 4.6566128730773926e-09\n",
            "b1              | exact: False | approximate: True  | maxdiff: 3.725290298461914e-09\n",
            "emb             | exact: False | approximate: True  | maxdiff: 1.862645149230957e-09\n",
            "C               | exact: False | approximate: True  | maxdiff: 3.725290298461914e-09\n"
          ]
        }
      ]
    },
    {
      "cell_type": "code",
      "source": [
        "# backward pass\n",
        "\n",
        "dlogits = F.softmax(logits, 1)\n",
        "dlogits[range(m), Yb] -=1\n",
        "dlogits /=m\n",
        "\n",
        "cmp('logits', dlogits, logits)"
      ],
      "metadata": {
        "id": "t1hXOUQBZ80L",
        "colab": {
          "base_uri": "https://localhost:8080/"
        },
        "outputId": "2660e776-55b3-4bcf-ed1e-60014470b04a"
      },
      "execution_count": 15,
      "outputs": [
        {
          "output_type": "stream",
          "name": "stdout",
          "text": [
            "logits          | exact: False | approximate: True  | maxdiff: 4.190951585769653e-09\n"
          ]
        }
      ]
    },
    {
      "cell_type": "code",
      "source": [
        "dhpre_bn = bngain * bnvar_inv/m * (m*dhpreact - dhpreact.sum(0) - m/(m-1)*bnraw*(dhpreact*bnraw).sum(0))\n",
        "\n",
        "cmp('hpre_bn', dhpre_bn, hpre_bn)"
      ],
      "metadata": {
        "colab": {
          "base_uri": "https://localhost:8080/"
        },
        "id": "cq8Pg0D-Slvq",
        "outputId": "f26a4ff0-7903-4023-8409-f0084c1e93cf"
      },
      "execution_count": 16,
      "outputs": [
        {
          "output_type": "stream",
          "name": "stdout",
          "text": [
            "hpre_bn         | exact: False | approximate: True  | maxdiff: 9.313225746154785e-10\n"
          ]
        }
      ]
    },
    {
      "cell_type": "code",
      "source": [
        "# Training the MLP neural net with my own backward pass\n",
        "\n",
        "n_embd = 10 # Dimensionality of the character embedding vectors\n",
        "n_hidden = 200 # Number of neurons in the hidden layer of the MLP\n",
        "\n",
        "g = torch.Generator().manual_seed(2147483647) # For reproducibility\n",
        "C  = torch.randn((vocab_size, n_embd),            generator=g)\n",
        "\n",
        "# Layer 1\n",
        "W1 = torch.randn((n_embd * block_size, n_hidden), generator=g) * (5/3)/((n_embd * block_size)**0.5)\n",
        "b1 = torch.randn(n_hidden,                        generator=g) * 0.1\n",
        "\n",
        "# Layer 2\n",
        "W2 = torch.randn((n_hidden, vocab_size),          generator=g) * 0.1\n",
        "b2 = torch.randn(vocab_size,                      generator=g) * 0.1\n",
        "\n",
        "# BatchNorm parameters\n",
        "bngain = torch.randn((1, n_hidden))*0.1 + 1.0\n",
        "bnbias = torch.randn((1, n_hidden))*0.1\n",
        "\n",
        "parameters = [C, W1, b1, W2, b2, bngain, bnbias]\n",
        "print(sum(p.nelement() for p in parameters)) # number of parameters in total\n",
        "for p in parameters:\n",
        "  p.requires_grad = True\n",
        "\n",
        "max_steps = 200000\n",
        "batch_size = 32\n",
        "m = batch_size # small variable is convenient to use :)\n",
        "lossi = []\n",
        "\n",
        "#with torch.no_grad():\n",
        "\n",
        "for i in range(max_steps):\n",
        "\n",
        "  # minibatch construct\n",
        "  Xi = torch.randint(0, X_train.shape[0], (batch_size,), generator=g)\n",
        "  Xb, Yb = X_train[Xi], Y_train[Xi] # batch X,Y\n",
        "\n",
        "  # forward pass\n",
        "  emb = C[Xb] # embedding the characters into vectors\n",
        "  emb_cat = emb.view(emb.shape[0], -1) # concatenate the vectors\n",
        "  # Linear layer\n",
        "  hpre_bn = emb_cat @ W1 + b1 # hidden layer pre-activation\n",
        "\n",
        "  # BatchNorm layer\n",
        "  bnmean = hpre_bn.mean(0, keepdim=True)\n",
        "  bnvar = hpre_bn.var(0, keepdim=True, unbiased=True)\n",
        "  bnvar_inv = (bnvar + 1e-5)**-0.5\n",
        "  bnraw = (hpre_bn - bnmean) * bnvar_inv\n",
        "  hpreact = bngain * bnraw + bnbias\n",
        "\n",
        "  # Non-linearity\n",
        "  h = torch.tanh(hpreact) # hidden layer\n",
        "  logits = h @ W2 + b2 # output layer\n",
        "  loss = F.cross_entropy(logits, Yb) # loss function\n",
        "\n",
        "  # backward pass\n",
        "  for p in parameters:\n",
        "    p.grad = None\n",
        "  # loss.backward() # commenting to use manual bckprop!\n",
        "\n",
        "  # manual backprop!\n",
        "  # pasting the above derived manual backprop cells\n",
        "  dlogits = F.softmax(logits, 1)\n",
        "  dlogits[range(m), Yb] -= 1\n",
        "  dlogits /= m\n",
        "  # 2nd layer backprop\n",
        "  dh = dlogits @ W2.T\n",
        "  dW2 = h.T @ dlogits\n",
        "  db2 = dlogits.sum(0)\n",
        "  # tanh\n",
        "  dhpreact = (1.0 - h**2) * dh\n",
        "  # batchnorm backprop\n",
        "  dbngain = (bnraw * dhpreact).sum(0, keepdim=True)\n",
        "  dbnbias = dhpreact.sum(0, keepdim=True)\n",
        "  dhpre_bn = bngain*bnvar_inv/m * (m*dhpreact - dhpreact.sum(0) - m/(m-1)*bnraw*(dhpreact*bnraw).sum(0))\n",
        "  # 1st layer\n",
        "  demb_cat = dhpre_bn @ W1.T\n",
        "  dW1 = emb_cat.T @ dhpre_bn\n",
        "  db1 = dhpre_bn.sum(0)\n",
        "  # embedding\n",
        "  demb = demb_cat.view(emb.shape)\n",
        "  dC = torch.zeros_like(C)\n",
        "  for k in range(Xb.shape[0]):\n",
        "    for j in range(Xb.shape[1]):\n",
        "      Xi = Xb[k,j]\n",
        "      dC[Xi] += demb[k,j]\n",
        "  grads = [dC, dW1, db1, dW2, db2, dbngain, dbnbias]\n",
        "\n",
        "  # update\n",
        "  lr = 0.1 if i < 100000 else 0.01 # step learning rate decay\n",
        "  for p, grad in zip(parameters, grads):\n",
        "    p.data += -lr * grad\n",
        "\n",
        "  # track stats\n",
        "  if i % 10000 == 0: # print every once in a while\n",
        "    print(f'{i:7d}/{max_steps:7d}: {loss.item():.4f}')\n",
        "  lossi.append(loss.log10().item())"
      ],
      "metadata": {
        "colab": {
          "base_uri": "https://localhost:8080/"
        },
        "id": "kC6j51hTTMYY",
        "outputId": "e2fcf5ef-9ed4-4235-b754-d3f7899f170f"
      },
      "execution_count": 19,
      "outputs": [
        {
          "output_type": "stream",
          "name": "stdout",
          "text": [
            "12297\n",
            "      0/ 200000: 3.8025\n",
            "  10000/ 200000: 2.1688\n",
            "  20000/ 200000: 2.4046\n",
            "  30000/ 200000: 2.4507\n",
            "  40000/ 200000: 2.0039\n",
            "  50000/ 200000: 2.3857\n",
            "  60000/ 200000: 2.3877\n",
            "  70000/ 200000: 2.0984\n",
            "  80000/ 200000: 2.3636\n",
            "  90000/ 200000: 2.1809\n",
            " 100000/ 200000: 1.9249\n",
            " 110000/ 200000: 2.3234\n",
            " 120000/ 200000: 2.0108\n",
            " 130000/ 200000: 2.4664\n",
            " 140000/ 200000: 2.3637\n",
            " 150000/ 200000: 2.1127\n",
            " 160000/ 200000: 1.9466\n",
            " 170000/ 200000: 1.8365\n",
            " 180000/ 200000: 1.9716\n",
            " 190000/ 200000: 1.8703\n"
          ]
        }
      ]
    },
    {
      "cell_type": "code",
      "source": [
        "with torch.no_grad():\n",
        "  emb = C[X_train]\n",
        "  emb_cat = emb.view(emb.shape[0], -1)\n",
        "  hpreact = emb_cat @ W1 + b1\n",
        "  # measuring the mean/std over the entire training set\n",
        "  bnmean = hpreact.mean(0, keepdim=True)\n",
        "  bnvar = hpreact.var(0, keepdim=True, unbiased=True)"
      ],
      "metadata": {
        "id": "Er0u4pEbXaPk"
      },
      "execution_count": 20,
      "outputs": []
    },
    {
      "cell_type": "code",
      "source": [
        "@torch.no_grad() # disables gradient tracking\n",
        "def split_loss(split):\n",
        "  x,y = {\n",
        "    'train': (X_train, Y_train),\n",
        "    'val': (X_val, Y_val),\n",
        "    'test': (X_test, Y_test),\n",
        "  }[split]\n",
        "  emb = C[x] # (N, block_size, n_embd)\n",
        "  emb_cat = emb.view(emb.shape[0], -1) # concat into (N, block_size * n_embd)\n",
        "  hpreact = emb_cat @ W1 + b1\n",
        "  hpreact = bngain * (hpreact - bnmean) * (bnvar + 1e-5)**-0.5 + bnbias\n",
        "  h = torch.tanh(hpreact) # (N, n_hidden)\n",
        "  logits = h @ W2 + b2 # (N, vocab_size)\n",
        "  loss = F.cross_entropy(logits, y)\n",
        "  print(split, loss.item())\n",
        "\n",
        "split_loss('train')\n",
        "split_loss('val')"
      ],
      "metadata": {
        "colab": {
          "base_uri": "https://localhost:8080/"
        },
        "id": "OcQeRuBucDh-",
        "outputId": "de2ac34a-b6cd-4e70-8dc4-0840c37bf2a3"
      },
      "execution_count": 21,
      "outputs": [
        {
          "output_type": "stream",
          "name": "stdout",
          "text": [
            "train 2.0708084106445312\n",
            "val 2.111037254333496\n"
          ]
        }
      ]
    },
    {
      "cell_type": "code",
      "source": [
        "# sample from the model\n",
        "g = torch.Generator()\n",
        "\n",
        "for _ in range(20):\n",
        "\n",
        "    out = []\n",
        "    context = [0] * block_size\n",
        "    while True:\n",
        "      # forward passing the neural net\n",
        "      emb = C[torch.tensor([context])] # (1,block_size,n_embd)\n",
        "      emb_cat = emb.view(emb.shape[0], -1)\n",
        "      hpreact = emb_cat @ W1 + b1\n",
        "      hpreact = bngain * (hpreact - bnmean) * (bnvar + 1e-5)**-0.5 + bnbias\n",
        "      h = torch.tanh(hpreact) # (N, n_hidden)\n",
        "      logits = h @ W2 + b2 # (N, vocab_size)\n",
        "      probs = F.softmax(logits, dim=1)\n",
        "\n",
        "      # sample from the distribution\n",
        "      Xi = torch.multinomial(probs, num_samples=1, generator=g).item()\n",
        "\n",
        "      # shift the context window and track the samples\n",
        "      context = context[1:] + [Xi]\n",
        "      out.append(Xi)\n",
        "\n",
        "      # if the special token '.', then break\n",
        "      if Xi == 0:\n",
        "        break\n",
        "    print(''.join(itos[i] for i in out)) # decoding and printing the generated word"
      ],
      "metadata": {
        "colab": {
          "base_uri": "https://localhost:8080/"
        },
        "id": "06Rjs15DdXQr",
        "outputId": "67f47cc6-48b7-4541-9061-b59115e711f0"
      },
      "execution_count": 22,
      "outputs": [
        {
          "output_type": "stream",
          "name": "stdout",
          "text": [
            "cynia.\n",
            "emili.\n",
            "hyn.\n",
            "yea.\n",
            "tylia.\n",
            "ier.\n",
            "dimrayie.\n",
            "maisyn.\n",
            "stani.\n",
            "aadlom.\n",
            "marber.\n",
            "liann.\n",
            "grachi.\n",
            "sanibray.\n",
            "bleianey.\n",
            "evaanisha.\n",
            "mohana.\n",
            "jayva.\n",
            "brayla.\n",
            "amana.\n"
          ]
        }
      ]
    },
    {
      "cell_type": "code",
      "source": [
        "# sample from the model\n",
        "g = torch.Generator().manual_seed(42)\n",
        "\n",
        "for _ in range(20):\n",
        "\n",
        "    out = []\n",
        "    context = [0] * block_size\n",
        "    while True:\n",
        "      # forward passing the neural net\n",
        "      emb = C[torch.tensor([context])] # (1,block_size,n_embd)\n",
        "      emb_cat = emb.view(emb.shape[0], -1)\n",
        "      hpreact = emb_cat @ W1 + b1\n",
        "      hpreact = bngain * (hpreact - bnmean) * (bnvar + 1e-5)**-0.5 + bnbias\n",
        "      h = torch.tanh(hpreact) # (N, n_hidden)\n",
        "      logits = h @ W2 + b2 # (N, vocab_size)\n",
        "      probs = F.softmax(logits, dim=1)\n",
        "\n",
        "      # sample from the distribution\n",
        "      Xi = torch.multinomial(probs, num_samples=1, generator=g).item()\n",
        "\n",
        "      # shift the context window and track the samples\n",
        "      context = context[1:] + [Xi]\n",
        "      out.append(Xi)\n",
        "\n",
        "      # if the special token '.', then break\n",
        "      if Xi == 0:\n",
        "        break\n",
        "    print(''.join(itos[i] for i in out)) # decoding and printing the generated word"
      ],
      "metadata": {
        "colab": {
          "base_uri": "https://localhost:8080/"
        },
        "id": "-1vqD8Nqj0G2",
        "outputId": "ef5ad2be-de54-47dc-e9a4-de2f13a1663b"
      },
      "execution_count": 23,
      "outputs": [
        {
          "output_type": "stream",
          "name": "stdout",
          "text": [
            "yansy.\n",
            "theolan.\n",
            "dlee.\n",
            "khalei.\n",
            "jyannayah.\n",
            "arhen.\n",
            "ena.\n",
            "daya.\n",
            "jiah.\n",
            "abdeles.\n",
            "lou.\n",
            "topheevani.\n",
            "pepollyn.\n",
            "zakelsen.\n",
            "lam.\n",
            "shina.\n",
            "luna.\n",
            "adari.\n",
            "zerianne.\n",
            "nehilsemale.\n"
          ]
        }
      ]
    },
    {
      "cell_type": "code",
      "source": [],
      "metadata": {
        "id": "8I0kilG2j7Zg"
      },
      "execution_count": null,
      "outputs": []
    }
  ]
}