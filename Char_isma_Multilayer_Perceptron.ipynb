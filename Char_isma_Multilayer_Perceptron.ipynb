{
  "nbformat": 4,
  "nbformat_minor": 0,
  "metadata": {
    "colab": {
      "provenance": [],
      "authorship_tag": "ABX9TyO/O05Ef2AJEJ3PHd/Nza6x",
      "include_colab_link": true
    },
    "kernelspec": {
      "name": "python3",
      "display_name": "Python 3"
    },
    "language_info": {
      "name": "python"
    }
  },
  "cells": [
    {
      "cell_type": "markdown",
      "metadata": {
        "id": "view-in-github",
        "colab_type": "text"
      },
      "source": [
        "<a href=\"https://colab.research.google.com/github/pramodkoujalagi/Char-isma/blob/main/Char_isma_Multilayer_Perceptron.ipynb\" target=\"_parent\"><img src=\"https://colab.research.google.com/assets/colab-badge.svg\" alt=\"Open In Colab\"/></a>"
      ]
    },
    {
      "cell_type": "code",
      "source": [
        "import torch\n",
        "import torch.nn.functional as F\n",
        "import matplotlib.pyplot as plt\n",
        "%matplotlib inline"
      ],
      "metadata": {
        "id": "YdFsaoOiDUZ7"
      },
      "execution_count": 1,
      "outputs": []
    },
    {
      "cell_type": "code",
      "execution_count": 2,
      "metadata": {
        "id": "9tMkbZJrT8gJ"
      },
      "outputs": [],
      "source": [
        "words = open('names.txt', 'r').read().splitlines()"
      ]
    },
    {
      "cell_type": "code",
      "source": [
        "words[:10]"
      ],
      "metadata": {
        "colab": {
          "base_uri": "https://localhost:8080/"
        },
        "id": "Hydt8rf9UzjR",
        "outputId": "12f7c708-6fb1-48cf-c833-f8ba3afcb0f0"
      },
      "execution_count": 3,
      "outputs": [
        {
          "output_type": "execute_result",
          "data": {
            "text/plain": [
              "['emma',\n",
              " 'olivia',\n",
              " 'ava',\n",
              " 'isabella',\n",
              " 'sophia',\n",
              " 'charlotte',\n",
              " 'mia',\n",
              " 'amelia',\n",
              " 'harper',\n",
              " 'evelyn']"
            ]
          },
          "metadata": {},
          "execution_count": 3
        }
      ]
    },
    {
      "cell_type": "code",
      "source": [
        "# p = ['pramod', 'pratham']"
      ],
      "metadata": {
        "id": "U40BHGMMeZof"
      },
      "execution_count": 4,
      "outputs": []
    },
    {
      "cell_type": "code",
      "source": [
        "# for w in p[:1]:\n",
        "#   for ch1, ch2 in zip(w, w[1:]):\n",
        "#       print(ch1, ch2)"
      ],
      "metadata": {
        "id": "0gDW0l7Zdg_g"
      },
      "execution_count": 5,
      "outputs": []
    },
    {
      "cell_type": "code",
      "source": [
        "# w"
      ],
      "metadata": {
        "id": "d0OTxfSpeORW"
      },
      "execution_count": 6,
      "outputs": []
    },
    {
      "cell_type": "code",
      "source": [
        "# w[1:]"
      ],
      "metadata": {
        "id": "vCQQfa13fuXB"
      },
      "execution_count": 7,
      "outputs": []
    },
    {
      "cell_type": "code",
      "source": [
        "len(words)"
      ],
      "metadata": {
        "colab": {
          "base_uri": "https://localhost:8080/"
        },
        "id": "lX8gXQT5FitL",
        "outputId": "2813a53f-1bb8-456b-fd8a-cd98cfac9ec1"
      },
      "execution_count": 8,
      "outputs": [
        {
          "output_type": "execute_result",
          "data": {
            "text/plain": [
              "32033"
            ]
          },
          "metadata": {},
          "execution_count": 8
        }
      ]
    },
    {
      "cell_type": "markdown",
      "source": [
        "## Building the vocabulary of characters & mappings to the integers and vice-versa"
      ],
      "metadata": {
        "id": "AP9bwqF_Gc4o"
      }
    },
    {
      "cell_type": "code",
      "source": [
        "characters = sorted(list(set(''.join(words))))\n",
        "stoi = {s:i+1 for i, s in enumerate(characters)}\n",
        "stoi['.'] = 0\n",
        "itos = {i:s for s, i in stoi.items()}"
      ],
      "metadata": {
        "id": "rMbobMYdFoB9"
      },
      "execution_count": 9,
      "outputs": []
    },
    {
      "cell_type": "code",
      "source": [
        "print(stoi)"
      ],
      "metadata": {
        "colab": {
          "base_uri": "https://localhost:8080/"
        },
        "id": "slWBXu1SGJCk",
        "outputId": "9e98504c-40e1-479c-93bb-27a96512d52e"
      },
      "execution_count": 10,
      "outputs": [
        {
          "output_type": "stream",
          "name": "stdout",
          "text": [
            "{'a': 1, 'b': 2, 'c': 3, 'd': 4, 'e': 5, 'f': 6, 'g': 7, 'h': 8, 'i': 9, 'j': 10, 'k': 11, 'l': 12, 'm': 13, 'n': 14, 'o': 15, 'p': 16, 'q': 17, 'r': 18, 's': 19, 't': 20, 'u': 21, 'v': 22, 'w': 23, 'x': 24, 'y': 25, 'z': 26, '.': 0}\n"
          ]
        }
      ]
    },
    {
      "cell_type": "code",
      "source": [
        "print(itos)"
      ],
      "metadata": {
        "colab": {
          "base_uri": "https://localhost:8080/"
        },
        "id": "UPAaxDZvGK6p",
        "outputId": "16d2f151-5c24-4fd3-c21e-3f6d6661f716"
      },
      "execution_count": 11,
      "outputs": [
        {
          "output_type": "stream",
          "name": "stdout",
          "text": [
            "{1: 'a', 2: 'b', 3: 'c', 4: 'd', 5: 'e', 6: 'f', 7: 'g', 8: 'h', 9: 'i', 10: 'j', 11: 'k', 12: 'l', 13: 'm', 14: 'n', 15: 'o', 16: 'p', 17: 'q', 18: 'r', 19: 's', 20: 't', 21: 'u', 22: 'v', 23: 'w', 24: 'x', 25: 'y', 26: 'z', 0: '.'}\n"
          ]
        }
      ]
    },
    {
      "cell_type": "markdown",
      "source": [
        "## Building the dataset"
      ],
      "metadata": {
        "id": "yW12m0scGjzE"
      }
    },
    {
      "cell_type": "code",
      "source": [
        "# Block size is nothing but the context length or the number of character I am taking to predict the next character.\n",
        "block_size = 3"
      ],
      "metadata": {
        "id": "wx3xTT__GM4H"
      },
      "execution_count": 12,
      "outputs": []
    },
    {
      "cell_type": "code",
      "source": [
        "def dataset(words):\n",
        "  X, Y = [], []\n",
        "  for w in words:\n",
        "    context = [0] * block_size\n",
        "    for ch in w + '.':\n",
        "      Xi = stoi[ch]\n",
        "      X.append(context)\n",
        "      Y.append(Xi)\n",
        "      context = context[1:] + [Xi]\n",
        "\n",
        "  X = torch.tensor(X)\n",
        "  Y = torch.tensor(Y)\n",
        "  return X, Y"
      ],
      "metadata": {
        "id": "hbQUAHWZHHlX"
      },
      "execution_count": 13,
      "outputs": []
    },
    {
      "cell_type": "code",
      "source": [
        "import random\n",
        "random.seed(42)\n",
        "random.shuffle(words)\n",
        "g1 = int(0.8*len(words))\n",
        "g2 = int(0.9*len(words))"
      ],
      "metadata": {
        "id": "dreyc30QIYCI"
      },
      "execution_count": 14,
      "outputs": []
    },
    {
      "cell_type": "code",
      "source": [
        "X_train, Y_train = dataset(words[:g1])\n",
        "X_val, Y_val = dataset(words[g1:g2])\n",
        "X_test, Y_test = dataset(words[g2:])"
      ],
      "metadata": {
        "id": "kBByltbOIuYD"
      },
      "execution_count": 15,
      "outputs": []
    },
    {
      "cell_type": "code",
      "source": [
        "X_train.size()"
      ],
      "metadata": {
        "colab": {
          "base_uri": "https://localhost:8080/"
        },
        "id": "nTWPVhYXJEWj",
        "outputId": "d5438635-1435-4d4c-b1a5-51f7c5501db5"
      },
      "execution_count": 16,
      "outputs": [
        {
          "output_type": "execute_result",
          "data": {
            "text/plain": [
              "torch.Size([182625, 3])"
            ]
          },
          "metadata": {},
          "execution_count": 16
        }
      ]
    },
    {
      "cell_type": "code",
      "source": [
        "print(X_train.shape, Y_train.shape)\n",
        "print(X_val.shape, Y_val.shape)\n",
        "print(X_test.shape, Y_test.shape)"
      ],
      "metadata": {
        "colab": {
          "base_uri": "https://localhost:8080/"
        },
        "id": "tyKs--54JUIE",
        "outputId": "7cf05764-803b-43c4-f8dd-ff34826e19c6"
      },
      "execution_count": 17,
      "outputs": [
        {
          "output_type": "stream",
          "name": "stdout",
          "text": [
            "torch.Size([182625, 3]) torch.Size([182625])\n",
            "torch.Size([22655, 3]) torch.Size([22655])\n",
            "torch.Size([22866, 3]) torch.Size([22866])\n"
          ]
        }
      ]
    },
    {
      "cell_type": "markdown",
      "source": [
        "Pytorch Doc: https://pytorch.org/docs/stable/generated/torch.Generator.html\n",
        "\n",
        "![Torch-Generator.png](data:image/png;base64,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)"
      ],
      "metadata": {
        "id": "Ca-0aqrbMMtJ"
      }
    },
    {
      "cell_type": "code",
      "source": [
        "g_cpu = torch.Generator()\n",
        "g_cpu.initial_seed()"
      ],
      "metadata": {
        "colab": {
          "base_uri": "https://localhost:8080/"
        },
        "id": "-PnRIzDhLRM5",
        "outputId": "44b481fc-c693-4d71-cea3-f9ebb30a6e8b"
      },
      "execution_count": 18,
      "outputs": [
        {
          "output_type": "execute_result",
          "data": {
            "text/plain": [
              "67280421310721"
            ]
          },
          "metadata": {},
          "execution_count": 18
        }
      ]
    },
    {
      "cell_type": "code",
      "source": [
        "g = torch.Generator().manual_seed(67280421310721)\n",
        "C = torch.randn((27, 10), generator=g) # This is Embedding Matrix/Lookup table, similar to one present in paper\n",
        "W1 = torch.randn((30,200), generator=g)\n",
        "b1 = torch.randn(200, generator = g)\n",
        "W2 = torch.randn((200, 27), generator=g)\n",
        "b2 = torch.randn(27, generator = g)\n",
        "params = [C, W1, b1, W2, b2]"
      ],
      "metadata": {
        "id": "CrZOmNYMLcm9"
      },
      "execution_count": 19,
      "outputs": []
    },
    {
      "cell_type": "code",
      "source": [
        "sum(p.nelement() for p in params)"
      ],
      "metadata": {
        "colab": {
          "base_uri": "https://localhost:8080/"
        },
        "id": "j_8garTALqz9",
        "outputId": "e1b078a4-30db-4cc5-d660-5b7360868c63"
      },
      "execution_count": 20,
      "outputs": [
        {
          "output_type": "execute_result",
          "data": {
            "text/plain": [
              "11897"
            ]
          },
          "metadata": {},
          "execution_count": 20
        }
      ]
    },
    {
      "cell_type": "markdown",
      "source": [
        "So it's a language model with 11K parameters approx. Parameters can be increased by increasing input, hidden layer neurons etc"
      ],
      "metadata": {
        "id": "leHB7mhROd_r"
      }
    },
    {
      "cell_type": "code",
      "source": [
        "for p in params:\n",
        "  p.requires_grad = True # By default Pytorch assumes false for grads"
      ],
      "metadata": {
        "id": "0NwnFDJYOUzY"
      },
      "execution_count": 21,
      "outputs": []
    },
    {
      "cell_type": "code",
      "source": [
        "learning_rate = torch.linspace(-3, 0, 100)\n",
        "learning_rate = torch.exp(learning_rate)"
      ],
      "metadata": {
        "id": "a5AD5ibsO77-"
      },
      "execution_count": 22,
      "outputs": []
    },
    {
      "cell_type": "code",
      "source": [
        "lri = []\n",
        "lossi = []\n",
        "stepi = []"
      ],
      "metadata": {
        "id": "31qqMqrNPOFv"
      },
      "execution_count": 23,
      "outputs": []
    },
    {
      "cell_type": "code",
      "source": [
        "for i in range(150000):\n",
        "\n",
        "  # small batch\n",
        "  Xi = torch.randint(0, X_train.shape[0], (32,))\n",
        "\n",
        "  # Forward pass\n",
        "  embeddings = C[X_train[Xi]]\n",
        "  h = torch.tanh(embeddings.view(-1, 30) @ W1 + b1)\n",
        "  logits = h @ W2 + b2\n",
        "  loss = F.cross_entropy(logits, Y_train[Xi])\n",
        "\n",
        "  # Backward pass\n",
        "  for p in params:\n",
        "    p.grad = None\n",
        "  loss.backward()\n",
        "\n",
        "  lr = 0.1 if i<50000 else 0.01 # Learning rate decay\n",
        "  for p in params:\n",
        "    p.data += -lr * p.grad\n",
        "\n",
        "  stepi.append(i)\n",
        "  lossi.append(loss.log10().item())"
      ],
      "metadata": {
        "id": "wkZIjJa9PQJS"
      },
      "execution_count": 35,
      "outputs": []
    },
    {
      "cell_type": "code",
      "source": [
        "print(loss.item())"
      ],
      "metadata": {
        "colab": {
          "base_uri": "https://localhost:8080/"
        },
        "id": "egEz6BlDdfbV",
        "outputId": "5d1bc8c5-a5f2-49e0-8c42-85a9af0a6826"
      },
      "execution_count": 36,
      "outputs": [
        {
          "output_type": "stream",
          "name": "stdout",
          "text": [
            "2.0784671306610107\n"
          ]
        }
      ]
    },
    {
      "cell_type": "code",
      "source": [
        "plt.plot(stepi, lossi)"
      ],
      "metadata": {
        "colab": {
          "base_uri": "https://localhost:8080/",
          "height": 447
        },
        "id": "wg1RV_TXPg8o",
        "outputId": "2cab2234-637e-48d0-f2bd-f4ba3410c2ee"
      },
      "execution_count": 37,
      "outputs": [
        {
          "output_type": "execute_result",
          "data": {
            "text/plain": [
              "[<matplotlib.lines.Line2D at 0x7b976c1f34c0>]"
            ]
          },
          "metadata": {},
          "execution_count": 37
        },
        {
          "output_type": "display_data",
          "data": {
            "text/plain": [
              "<Figure size 640x480 with 1 Axes>"
            ],
            "image/png": "[encoded data removed]"
          },
          "metadata": {}
        }
      ]
    },
    {
      "cell_type": "markdown",
      "source": [
        "Training loss"
      ],
      "metadata": {
        "id": "BgVEP1sKbtAF"
      }
    },
    {
      "cell_type": "code",
      "source": [
        "embeddings = C[X_train]\n",
        "h = torch.tanh(embeddings.view(-1, 30) @W1+b1)\n",
        "logits = h @ W2 + b2\n",
        "loss = F.cross_entropy(logits, Y_train)\n",
        "print(\"Training loss:\", loss.item())"
      ],
      "metadata": {
        "colab": {
          "base_uri": "https://localhost:8080/"
        },
        "id": "9Nbmrci4bpo3",
        "outputId": "cdcf39ab-46bb-4a7f-b491-798d1ac8f49b"
      },
      "execution_count": 38,
      "outputs": [
        {
          "output_type": "stream",
          "name": "stdout",
          "text": [
            "Training loss: 2.118220329284668\n"
          ]
        }
      ]
    },
    {
      "cell_type": "markdown",
      "source": [
        "Validation loss"
      ],
      "metadata": {
        "id": "NLrzgO6rcykz"
      }
    },
    {
      "cell_type": "code",
      "source": [
        "embeddings = C[X_val]\n",
        "h = torch.tanh(embeddings.view(-1, 30) @ W1 + b1)\n",
        "logits = h @ W2 + b2\n",
        "loss = F.cross_entropy(logits, Y_val)\n",
        "print(f\"Val loss:\", loss.item())"
      ],
      "metadata": {
        "colab": {
          "base_uri": "https://localhost:8080/"
        },
        "id": "PrmGc_2wc0C0",
        "outputId": "50826df7-dde4-452a-a1d7-1704bb7e239f"
      },
      "execution_count": 39,
      "outputs": [
        {
          "output_type": "stream",
          "name": "stdout",
          "text": [
            "Val loss: 2.1693458557128906\n"
          ]
        }
      ]
    },
    {
      "cell_type": "markdown",
      "source": [
        "Test loss"
      ],
      "metadata": {
        "id": "4sDn5h_kdWOs"
      }
    },
    {
      "cell_type": "code",
      "source": [
        "embeddings = C[X_test]\n",
        "h = torch.tanh(embeddings.view(-1, 30) @ W1+b1)\n",
        "logits = h @ W2 + b2\n",
        "loss = F.cross_entropy(logits, Y_test)\n",
        "print(\"Test loss:\", loss.item())"
      ],
      "metadata": {
        "colab": {
          "base_uri": "https://localhost:8080/"
        },
        "id": "4Gc8EjtHdRmh",
        "outputId": "85fec7f0-fcd8-42bc-f8f2-7241fb52a645"
      },
      "execution_count": 41,
      "outputs": [
        {
          "output_type": "stream",
          "name": "stdout",
          "text": [
            "Test loss: 2.166947603225708\n"
          ]
        }
      ]
    },
    {
      "cell_type": "code",
      "source": [
        "# visualizing dimensions 0 and 1 of the embedding matrix C for all characters\n",
        "plt.figure(figsize=(8,8))\n",
        "plt.scatter(C[:,0].data, C[:,1].data, s=200)\n",
        "for i in range(C.shape[0]):\n",
        "    plt.text(C[i,0].item(), C[i,1].item(), itos[i], ha=\"center\", va=\"center\", color='white')\n",
        "plt.grid('minor')"
      ],
      "metadata": {
        "colab": {
          "base_uri": "https://localhost:8080/",
          "height": 676
        },
        "id": "zywnIHiqi71f",
        "outputId": "b10d5b2c-c4fb-4408-c792-a451970b7617"
      },
      "execution_count": 42,
      "outputs": [
        {
          "output_type": "display_data",
          "data": {
            "text/plain": [
              "<Figure size 800x800 with 1 Axes>"
            ],
            "image/png": "[encoded data removed]"
          },
          "metadata": {}
        }
      ]
    },
    {
      "cell_type": "markdown",
      "source": [
        "## Sample from the model"
      ],
      "metadata": {
        "id": "A9jvzibKj3rs"
      }
    },
    {
      "cell_type": "code",
      "source": [
        "g = torch.Generator().manual_seed(67280421310721 + 12)\n",
        "\n",
        "for _ in range(25):\n",
        "  out = []\n",
        "  context = [0] * block_size\n",
        "  while True:\n",
        "    embeddings = C[torch.tensor([context])]\n",
        "    h = torch.tanh(embeddings.view(1, -1) @ W1 + b1)\n",
        "    logits = h @ W2 + b2\n",
        "    prob = F.softmax(logits, dim=1)\n",
        "    Xi = torch.multinomial(prob, num_samples=1, generator=g).item()\n",
        "    context = context[1:] + [Xi]\n",
        "    out.append(Xi)\n",
        "    if Xi == 0:\n",
        "      break\n",
        "\n",
        "  print(''.join(itos[i] for i in out))\n"
      ],
      "metadata": {
        "colab": {
          "base_uri": "https://localhost:8080/"
        },
        "id": "pGDjRmstjhLW",
        "outputId": "648ca7e5-7517-4a6d-a7f8-99c9e122abc8"
      },
      "execution_count": 46,
      "outputs": [
        {
          "output_type": "stream",
          "name": "stdout",
          "text": [
            "buskyngelianna.\n",
            "wie.\n",
            "adalaya.\n",
            "sia.\n",
            "jazamayshboz.\n",
            "tael.\n",
            "muldamarickonn.\n",
            "emmaryn.\n",
            "brina.\n",
            "layline.\n",
            "kaajurgo.\n",
            "azareellenn.\n",
            "azaria.\n",
            "bustison.\n",
            "koha.\n",
            "bree.\n",
            "jahlir.\n",
            "sha.\n",
            "mhonita.\n",
            "kabdrick.\n",
            "addylynn.\n",
            "jucelyn.\n",
            "nar.\n",
            "tpiah.\n",
            "jozan.\n"
          ]
        }
      ]
    },
    {
      "cell_type": "code",
      "source": [],
      "metadata": {
        "id": "2v4MfJnflVji"
      },
      "execution_count": null,
      "outputs": []
    }
  ]
}